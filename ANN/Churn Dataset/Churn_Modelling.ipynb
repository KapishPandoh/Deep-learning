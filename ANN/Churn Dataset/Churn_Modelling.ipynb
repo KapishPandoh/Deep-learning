{
 "cells": [
  {
   "cell_type": "code",
   "execution_count": 9,
   "metadata": {},
   "outputs": [],
   "source": [
    "import numpy as np\n",
    "import pandas as pd"
   ]
  },
  {
   "cell_type": "code",
   "execution_count": 2,
   "metadata": {},
   "outputs": [],
   "source": [
    "import matplotlib.pyplot as plt\n",
    "%matplotlib inline"
   ]
  },
  {
   "cell_type": "code",
   "execution_count": 3,
   "metadata": {},
   "outputs": [],
   "source": [
    "from sklearn.model_selection import train_test_split"
   ]
  },
  {
   "cell_type": "code",
   "execution_count": 4,
   "metadata": {},
   "outputs": [],
   "source": [
    "from sklearn.preprocessing import StandardScaler"
   ]
  },
  {
   "cell_type": "code",
   "execution_count": 5,
   "metadata": {},
   "outputs": [],
   "source": [
    "from tensorflow.keras.models import Sequential"
   ]
  },
  {
   "cell_type": "code",
   "execution_count": 6,
   "metadata": {},
   "outputs": [],
   "source": [
    "from tensorflow.keras.layers import Dense\n",
    "from tensorflow.keras.layers import Dropout"
   ]
  },
  {
   "cell_type": "code",
   "execution_count": 7,
   "metadata": {},
   "outputs": [],
   "source": [
    "from sklearn.metrics import confusion_matrix\n",
    "from sklearn.metrics import accuracy_score"
   ]
  },
  {
   "cell_type": "code",
   "execution_count": 12,
   "metadata": {},
   "outputs": [
    {
     "data": {
      "text/html": [
       "<div>\n",
       "<style scoped>\n",
       "    .dataframe tbody tr th:only-of-type {\n",
       "        vertical-align: middle;\n",
       "    }\n",
       "\n",
       "    .dataframe tbody tr th {\n",
       "        vertical-align: top;\n",
       "    }\n",
       "\n",
       "    .dataframe thead th {\n",
       "        text-align: right;\n",
       "    }\n",
       "</style>\n",
       "<table border=\"1\" class=\"dataframe\">\n",
       "  <thead>\n",
       "    <tr style=\"text-align: right;\">\n",
       "      <th></th>\n",
       "      <th>RowNumber</th>\n",
       "      <th>CustomerId</th>\n",
       "      <th>Surname</th>\n",
       "      <th>CreditScore</th>\n",
       "      <th>Geography</th>\n",
       "      <th>Gender</th>\n",
       "      <th>Age</th>\n",
       "      <th>Tenure</th>\n",
       "      <th>Balance</th>\n",
       "      <th>NumOfProducts</th>\n",
       "      <th>HasCrCard</th>\n",
       "      <th>IsActiveMember</th>\n",
       "      <th>EstimatedSalary</th>\n",
       "      <th>Exited</th>\n",
       "    </tr>\n",
       "  </thead>\n",
       "  <tbody>\n",
       "    <tr>\n",
       "      <th>0</th>\n",
       "      <td>1</td>\n",
       "      <td>15634602</td>\n",
       "      <td>Hargrave</td>\n",
       "      <td>619</td>\n",
       "      <td>France</td>\n",
       "      <td>Female</td>\n",
       "      <td>42</td>\n",
       "      <td>2</td>\n",
       "      <td>0.00</td>\n",
       "      <td>1</td>\n",
       "      <td>1</td>\n",
       "      <td>1</td>\n",
       "      <td>101348.88</td>\n",
       "      <td>1</td>\n",
       "    </tr>\n",
       "    <tr>\n",
       "      <th>1</th>\n",
       "      <td>2</td>\n",
       "      <td>15647311</td>\n",
       "      <td>Hill</td>\n",
       "      <td>608</td>\n",
       "      <td>Spain</td>\n",
       "      <td>Female</td>\n",
       "      <td>41</td>\n",
       "      <td>1</td>\n",
       "      <td>83807.86</td>\n",
       "      <td>1</td>\n",
       "      <td>0</td>\n",
       "      <td>1</td>\n",
       "      <td>112542.58</td>\n",
       "      <td>0</td>\n",
       "    </tr>\n",
       "    <tr>\n",
       "      <th>2</th>\n",
       "      <td>3</td>\n",
       "      <td>15619304</td>\n",
       "      <td>Onio</td>\n",
       "      <td>502</td>\n",
       "      <td>France</td>\n",
       "      <td>Female</td>\n",
       "      <td>42</td>\n",
       "      <td>8</td>\n",
       "      <td>159660.80</td>\n",
       "      <td>3</td>\n",
       "      <td>1</td>\n",
       "      <td>0</td>\n",
       "      <td>113931.57</td>\n",
       "      <td>1</td>\n",
       "    </tr>\n",
       "    <tr>\n",
       "      <th>3</th>\n",
       "      <td>4</td>\n",
       "      <td>15701354</td>\n",
       "      <td>Boni</td>\n",
       "      <td>699</td>\n",
       "      <td>France</td>\n",
       "      <td>Female</td>\n",
       "      <td>39</td>\n",
       "      <td>1</td>\n",
       "      <td>0.00</td>\n",
       "      <td>2</td>\n",
       "      <td>0</td>\n",
       "      <td>0</td>\n",
       "      <td>93826.63</td>\n",
       "      <td>0</td>\n",
       "    </tr>\n",
       "    <tr>\n",
       "      <th>4</th>\n",
       "      <td>5</td>\n",
       "      <td>15737888</td>\n",
       "      <td>Mitchell</td>\n",
       "      <td>850</td>\n",
       "      <td>Spain</td>\n",
       "      <td>Female</td>\n",
       "      <td>43</td>\n",
       "      <td>2</td>\n",
       "      <td>125510.82</td>\n",
       "      <td>1</td>\n",
       "      <td>1</td>\n",
       "      <td>1</td>\n",
       "      <td>79084.10</td>\n",
       "      <td>0</td>\n",
       "    </tr>\n",
       "  </tbody>\n",
       "</table>\n",
       "</div>"
      ],
      "text/plain": [
       "   RowNumber  CustomerId   Surname  CreditScore Geography  Gender  Age  \\\n",
       "0          1    15634602  Hargrave          619    France  Female   42   \n",
       "1          2    15647311      Hill          608     Spain  Female   41   \n",
       "2          3    15619304      Onio          502    France  Female   42   \n",
       "3          4    15701354      Boni          699    France  Female   39   \n",
       "4          5    15737888  Mitchell          850     Spain  Female   43   \n",
       "\n",
       "   Tenure    Balance  NumOfProducts  HasCrCard  IsActiveMember  \\\n",
       "0       2       0.00              1          1               1   \n",
       "1       1   83807.86              1          0               1   \n",
       "2       8  159660.80              3          1               0   \n",
       "3       1       0.00              2          0               0   \n",
       "4       2  125510.82              1          1               1   \n",
       "\n",
       "   EstimatedSalary  Exited  \n",
       "0        101348.88       1  \n",
       "1        112542.58       0  \n",
       "2        113931.57       1  \n",
       "3         93826.63       0  \n",
       "4         79084.10       0  "
      ]
     },
     "execution_count": 12,
     "metadata": {},
     "output_type": "execute_result"
    }
   ],
   "source": [
    "data = pd.read_csv(\"Churn_Modelling.csv\")\n",
    "data.head()"
   ]
  },
  {
   "cell_type": "code",
   "execution_count": 13,
   "metadata": {},
   "outputs": [],
   "source": [
    "X = data.iloc[: ,3:13]\n",
    "y = data.iloc[: ,13]"
   ]
  },
  {
   "cell_type": "code",
   "execution_count": 14,
   "metadata": {},
   "outputs": [],
   "source": [
    "geo     = pd.get_dummies(X['Geography'] ,drop_first=True)\n",
    "gender  = pd.get_dummies(X['Gender']    ,drop_first=True)"
   ]
  },
  {
   "cell_type": "code",
   "execution_count": 15,
   "metadata": {},
   "outputs": [],
   "source": [
    "X = pd.concat([X,geo,gender] ,axis=1)\n",
    "X = X.drop(['Geography','Gender'] ,axis=1)"
   ]
  },
  {
   "cell_type": "code",
   "execution_count": 16,
   "metadata": {},
   "outputs": [
    {
     "data": {
      "text/html": [
       "<div>\n",
       "<style scoped>\n",
       "    .dataframe tbody tr th:only-of-type {\n",
       "        vertical-align: middle;\n",
       "    }\n",
       "\n",
       "    .dataframe tbody tr th {\n",
       "        vertical-align: top;\n",
       "    }\n",
       "\n",
       "    .dataframe thead th {\n",
       "        text-align: right;\n",
       "    }\n",
       "</style>\n",
       "<table border=\"1\" class=\"dataframe\">\n",
       "  <thead>\n",
       "    <tr style=\"text-align: right;\">\n",
       "      <th></th>\n",
       "      <th>CreditScore</th>\n",
       "      <th>Age</th>\n",
       "      <th>Tenure</th>\n",
       "      <th>Balance</th>\n",
       "      <th>NumOfProducts</th>\n",
       "      <th>HasCrCard</th>\n",
       "      <th>IsActiveMember</th>\n",
       "      <th>EstimatedSalary</th>\n",
       "      <th>Germany</th>\n",
       "      <th>Spain</th>\n",
       "      <th>Male</th>\n",
       "    </tr>\n",
       "  </thead>\n",
       "  <tbody>\n",
       "    <tr>\n",
       "      <th>0</th>\n",
       "      <td>619</td>\n",
       "      <td>42</td>\n",
       "      <td>2</td>\n",
       "      <td>0.00</td>\n",
       "      <td>1</td>\n",
       "      <td>1</td>\n",
       "      <td>1</td>\n",
       "      <td>101348.88</td>\n",
       "      <td>0</td>\n",
       "      <td>0</td>\n",
       "      <td>0</td>\n",
       "    </tr>\n",
       "    <tr>\n",
       "      <th>1</th>\n",
       "      <td>608</td>\n",
       "      <td>41</td>\n",
       "      <td>1</td>\n",
       "      <td>83807.86</td>\n",
       "      <td>1</td>\n",
       "      <td>0</td>\n",
       "      <td>1</td>\n",
       "      <td>112542.58</td>\n",
       "      <td>0</td>\n",
       "      <td>1</td>\n",
       "      <td>0</td>\n",
       "    </tr>\n",
       "    <tr>\n",
       "      <th>2</th>\n",
       "      <td>502</td>\n",
       "      <td>42</td>\n",
       "      <td>8</td>\n",
       "      <td>159660.80</td>\n",
       "      <td>3</td>\n",
       "      <td>1</td>\n",
       "      <td>0</td>\n",
       "      <td>113931.57</td>\n",
       "      <td>0</td>\n",
       "      <td>0</td>\n",
       "      <td>0</td>\n",
       "    </tr>\n",
       "    <tr>\n",
       "      <th>3</th>\n",
       "      <td>699</td>\n",
       "      <td>39</td>\n",
       "      <td>1</td>\n",
       "      <td>0.00</td>\n",
       "      <td>2</td>\n",
       "      <td>0</td>\n",
       "      <td>0</td>\n",
       "      <td>93826.63</td>\n",
       "      <td>0</td>\n",
       "      <td>0</td>\n",
       "      <td>0</td>\n",
       "    </tr>\n",
       "    <tr>\n",
       "      <th>4</th>\n",
       "      <td>850</td>\n",
       "      <td>43</td>\n",
       "      <td>2</td>\n",
       "      <td>125510.82</td>\n",
       "      <td>1</td>\n",
       "      <td>1</td>\n",
       "      <td>1</td>\n",
       "      <td>79084.10</td>\n",
       "      <td>0</td>\n",
       "      <td>1</td>\n",
       "      <td>0</td>\n",
       "    </tr>\n",
       "  </tbody>\n",
       "</table>\n",
       "</div>"
      ],
      "text/plain": [
       "   CreditScore  Age  Tenure    Balance  NumOfProducts  HasCrCard  \\\n",
       "0          619   42       2       0.00              1          1   \n",
       "1          608   41       1   83807.86              1          0   \n",
       "2          502   42       8  159660.80              3          1   \n",
       "3          699   39       1       0.00              2          0   \n",
       "4          850   43       2  125510.82              1          1   \n",
       "\n",
       "   IsActiveMember  EstimatedSalary  Germany  Spain  Male  \n",
       "0               1        101348.88        0      0     0  \n",
       "1               1        112542.58        0      1     0  \n",
       "2               0        113931.57        0      0     0  \n",
       "3               0         93826.63        0      0     0  \n",
       "4               1         79084.10        0      1     0  "
      ]
     },
     "execution_count": 16,
     "metadata": {},
     "output_type": "execute_result"
    }
   ],
   "source": [
    "X.head()"
   ]
  },
  {
   "cell_type": "code",
   "execution_count": 17,
   "metadata": {},
   "outputs": [],
   "source": [
    "X_train, X_test, y_train, y_test = train_test_split(X, y, test_size = 0.2, random_state = 0)"
   ]
  },
  {
   "cell_type": "code",
   "execution_count": 18,
   "metadata": {},
   "outputs": [],
   "source": [
    "sc = StandardScaler()\n",
    "\n",
    "X_train = sc.fit_transform(X_train)\n",
    "X_test  = sc.transform(X_test)"
   ]
  },
  {
   "cell_type": "code",
   "execution_count": 19,
   "metadata": {},
   "outputs": [],
   "source": [
    "model = Sequential()\n",
    "\n",
    "model.add( Dense(input_shape=(11,) ,units=6 ,kernel_initializer='he_uniform' ,activation='relu') )\n",
    "model.add(Dropout(0.3))\n",
    "model.add( Dense(units=6 ,kernel_initializer='he_uniform' ,activation='relu') )\n",
    "model.add(Dropout(0.3))\n",
    "\n",
    "model.add( Dense(units=1 ,kernel_initializer='glorot_uniform' ,activation='sigmoid') )"
   ]
  },
  {
   "cell_type": "code",
   "execution_count": 20,
   "metadata": {},
   "outputs": [
    {
     "name": "stdout",
     "output_type": "stream",
     "text": [
      "Model: \"sequential\"\n",
      "_________________________________________________________________\n",
      "Layer (type)                 Output Shape              Param #   \n",
      "=================================================================\n",
      "dense (Dense)                (None, 6)                 72        \n",
      "_________________________________________________________________\n",
      "dropout (Dropout)            (None, 6)                 0         \n",
      "_________________________________________________________________\n",
      "dense_1 (Dense)              (None, 6)                 42        \n",
      "_________________________________________________________________\n",
      "dropout_1 (Dropout)          (None, 6)                 0         \n",
      "_________________________________________________________________\n",
      "dense_2 (Dense)              (None, 1)                 7         \n",
      "=================================================================\n",
      "Total params: 121\n",
      "Trainable params: 121\n",
      "Non-trainable params: 0\n",
      "_________________________________________________________________\n"
     ]
    }
   ],
   "source": [
    "model.summary()"
   ]
  },
  {
   "cell_type": "code",
   "execution_count": 21,
   "metadata": {},
   "outputs": [],
   "source": [
    "model.compile(\n",
    "               optimizer = 'adam' ,\n",
    "               loss      = 'binary_crossentropy' ,\n",
    "               metrics   = ['accuracy']\n",
    "              )"
   ]
  },
  {
   "cell_type": "code",
   "execution_count": 22,
   "metadata": {
    "scrolled": true
   },
   "outputs": [
    {
     "name": "stdout",
     "output_type": "stream",
     "text": [
      "Epoch 1/100\n",
      "800/800 [==============================] - 3s 3ms/step - loss: 0.8683 - accuracy: 0.6510 - val_loss: 0.4967 - val_accuracy: 0.7970\n",
      "Epoch 2/100\n",
      "800/800 [==============================] - 2s 2ms/step - loss: 0.5424 - accuracy: 0.7764 - val_loss: 0.4820 - val_accuracy: 0.8000\n",
      "Epoch 3/100\n",
      "800/800 [==============================] - 2s 2ms/step - loss: 0.5050 - accuracy: 0.7941 - val_loss: 0.4716 - val_accuracy: 0.8030\n",
      "Epoch 4/100\n",
      "800/800 [==============================] - 2s 2ms/step - loss: 0.4964 - accuracy: 0.7974 - val_loss: 0.4670 - val_accuracy: 0.8000\n",
      "Epoch 5/100\n",
      "800/800 [==============================] - 2s 2ms/step - loss: 0.4849 - accuracy: 0.7993 - val_loss: 0.4534 - val_accuracy: 0.8040\n",
      "Epoch 6/100\n",
      "800/800 [==============================] - 2s 2ms/step - loss: 0.4715 - accuracy: 0.8002 - val_loss: 0.4412 - val_accuracy: 0.8125\n",
      "Epoch 7/100\n",
      "800/800 [==============================] - 2s 2ms/step - loss: 0.4700 - accuracy: 0.7994 - val_loss: 0.4411 - val_accuracy: 0.8065\n",
      "Epoch 8/100\n",
      "800/800 [==============================] - 2s 2ms/step - loss: 0.4582 - accuracy: 0.8061 - val_loss: 0.4367 - val_accuracy: 0.8075\n",
      "Epoch 9/100\n",
      "800/800 [==============================] - 2s 2ms/step - loss: 0.4610 - accuracy: 0.8040 - val_loss: 0.4373 - val_accuracy: 0.8060\n",
      "Epoch 10/100\n",
      "800/800 [==============================] - 2s 2ms/step - loss: 0.4550 - accuracy: 0.8086 - val_loss: 0.4321 - val_accuracy: 0.8080\n",
      "Epoch 11/100\n",
      "800/800 [==============================] - 2s 3ms/step - loss: 0.4506 - accuracy: 0.8074 - val_loss: 0.4314 - val_accuracy: 0.8110\n",
      "Epoch 12/100\n",
      "800/800 [==============================] - 2s 3ms/step - loss: 0.4510 - accuracy: 0.8098 - val_loss: 0.4295 - val_accuracy: 0.8095\n",
      "Epoch 13/100\n",
      "800/800 [==============================] - 2s 2ms/step - loss: 0.4500 - accuracy: 0.8075 - val_loss: 0.4280 - val_accuracy: 0.8115\n",
      "Epoch 14/100\n",
      "800/800 [==============================] - 2s 3ms/step - loss: 0.4447 - accuracy: 0.8126 - val_loss: 0.4274 - val_accuracy: 0.8125\n",
      "Epoch 15/100\n",
      "800/800 [==============================] - 2s 3ms/step - loss: 0.4461 - accuracy: 0.8108 - val_loss: 0.4277 - val_accuracy: 0.8090\n",
      "Epoch 16/100\n",
      "800/800 [==============================] - 2s 3ms/step - loss: 0.4454 - accuracy: 0.8124 - val_loss: 0.4264 - val_accuracy: 0.8110\n",
      "Epoch 17/100\n",
      "800/800 [==============================] - 2s 3ms/step - loss: 0.4411 - accuracy: 0.8155 - val_loss: 0.4261 - val_accuracy: 0.8115\n",
      "Epoch 18/100\n",
      "800/800 [==============================] - 2s 2ms/step - loss: 0.4385 - accuracy: 0.8165 - val_loss: 0.4242 - val_accuracy: 0.8135\n",
      "Epoch 19/100\n",
      "800/800 [==============================] - 2s 3ms/step - loss: 0.4399 - accuracy: 0.8156 - val_loss: 0.4230 - val_accuracy: 0.8155\n",
      "Epoch 20/100\n",
      "800/800 [==============================] - 2s 3ms/step - loss: 0.4379 - accuracy: 0.8175 - val_loss: 0.4236 - val_accuracy: 0.8145\n",
      "Epoch 21/100\n",
      "800/800 [==============================] - 2s 3ms/step - loss: 0.4392 - accuracy: 0.8163 - val_loss: 0.4263 - val_accuracy: 0.8120\n",
      "Epoch 22/100\n",
      "800/800 [==============================] - 2s 3ms/step - loss: 0.4375 - accuracy: 0.8140 - val_loss: 0.4259 - val_accuracy: 0.8095\n",
      "Epoch 23/100\n",
      "800/800 [==============================] - 2s 2ms/step - loss: 0.4382 - accuracy: 0.8158 - val_loss: 0.4220 - val_accuracy: 0.8160\n",
      "Epoch 24/100\n",
      "800/800 [==============================] - 2s 2ms/step - loss: 0.4331 - accuracy: 0.8175 - val_loss: 0.4214 - val_accuracy: 0.8145\n",
      "Epoch 25/100\n",
      "800/800 [==============================] - 2s 2ms/step - loss: 0.4350 - accuracy: 0.8171 - val_loss: 0.4224 - val_accuracy: 0.8125\n",
      "Epoch 26/100\n",
      "800/800 [==============================] - 2s 2ms/step - loss: 0.4337 - accuracy: 0.8195 - val_loss: 0.4262 - val_accuracy: 0.8085\n",
      "Epoch 27/100\n",
      "800/800 [==============================] - 2s 3ms/step - loss: 0.4305 - accuracy: 0.8224 - val_loss: 0.4195 - val_accuracy: 0.8145\n",
      "Epoch 28/100\n",
      "800/800 [==============================] - 2s 2ms/step - loss: 0.4348 - accuracy: 0.8165 - val_loss: 0.4221 - val_accuracy: 0.8135\n",
      "Epoch 29/100\n",
      "800/800 [==============================] - 2s 2ms/step - loss: 0.4311 - accuracy: 0.8209 - val_loss: 0.4199 - val_accuracy: 0.8145\n",
      "Epoch 30/100\n",
      "800/800 [==============================] - 2s 2ms/step - loss: 0.4316 - accuracy: 0.8186 - val_loss: 0.4212 - val_accuracy: 0.8135\n",
      "Epoch 31/100\n",
      "800/800 [==============================] - 2s 2ms/step - loss: 0.4276 - accuracy: 0.8220 - val_loss: 0.4202 - val_accuracy: 0.8135\n",
      "Epoch 32/100\n",
      "800/800 [==============================] - 2s 2ms/step - loss: 0.4273 - accuracy: 0.8239 - val_loss: 0.4205 - val_accuracy: 0.8120\n",
      "Epoch 33/100\n",
      "800/800 [==============================] - 2s 2ms/step - loss: 0.4261 - accuracy: 0.8207 - val_loss: 0.4166 - val_accuracy: 0.8155\n",
      "Epoch 34/100\n",
      "800/800 [==============================] - 2s 2ms/step - loss: 0.4266 - accuracy: 0.8260 - val_loss: 0.4154 - val_accuracy: 0.8160\n",
      "Epoch 35/100\n",
      "800/800 [==============================] - 2s 2ms/step - loss: 0.4227 - accuracy: 0.8273 - val_loss: 0.4116 - val_accuracy: 0.8190\n",
      "Epoch 36/100\n",
      "800/800 [==============================] - 2s 3ms/step - loss: 0.4230 - accuracy: 0.8225 - val_loss: 0.4180 - val_accuracy: 0.8135\n",
      "Epoch 37/100\n",
      "800/800 [==============================] - 2s 2ms/step - loss: 0.4242 - accuracy: 0.8271 - val_loss: 0.4126 - val_accuracy: 0.8165\n",
      "Epoch 38/100\n",
      "800/800 [==============================] - 2s 3ms/step - loss: 0.4229 - accuracy: 0.8231 - val_loss: 0.4095 - val_accuracy: 0.8175\n",
      "Epoch 39/100\n",
      "800/800 [==============================] - 2s 3ms/step - loss: 0.4258 - accuracy: 0.8204 - val_loss: 0.4119 - val_accuracy: 0.8165\n",
      "Epoch 40/100\n",
      "800/800 [==============================] - 2s 2ms/step - loss: 0.4239 - accuracy: 0.8225 - val_loss: 0.4100 - val_accuracy: 0.8160\n",
      "Epoch 41/100\n",
      "800/800 [==============================] - 2s 3ms/step - loss: 0.4214 - accuracy: 0.8271 - val_loss: 0.4056 - val_accuracy: 0.8240\n",
      "Epoch 42/100\n",
      "800/800 [==============================] - 2s 3ms/step - loss: 0.4195 - accuracy: 0.8240 - val_loss: 0.4055 - val_accuracy: 0.8225\n",
      "Epoch 43/100\n",
      "800/800 [==============================] - 2s 3ms/step - loss: 0.4208 - accuracy: 0.8207 - val_loss: 0.4092 - val_accuracy: 0.8165\n",
      "Epoch 44/100\n",
      "800/800 [==============================] - 2s 3ms/step - loss: 0.4214 - accuracy: 0.8240 - val_loss: 0.4092 - val_accuracy: 0.8155\n",
      "Epoch 45/100\n",
      "800/800 [==============================] - 2s 3ms/step - loss: 0.4193 - accuracy: 0.8259 - val_loss: 0.4072 - val_accuracy: 0.8165\n",
      "Epoch 46/100\n",
      "800/800 [==============================] - 2s 2ms/step - loss: 0.4205 - accuracy: 0.8240 - val_loss: 0.4015 - val_accuracy: 0.8270\n",
      "Epoch 47/100\n",
      "800/800 [==============================] - 2s 3ms/step - loss: 0.4194 - accuracy: 0.8267 - val_loss: 0.4057 - val_accuracy: 0.8170\n",
      "Epoch 48/100\n",
      "800/800 [==============================] - 2s 3ms/step - loss: 0.4231 - accuracy: 0.8215 - val_loss: 0.4072 - val_accuracy: 0.8165\n",
      "Epoch 49/100\n",
      "800/800 [==============================] - 2s 3ms/step - loss: 0.4191 - accuracy: 0.8251 - val_loss: 0.4074 - val_accuracy: 0.8170\n",
      "Epoch 50/100\n",
      "800/800 [==============================] - 2s 3ms/step - loss: 0.4189 - accuracy: 0.8234 - val_loss: 0.4061 - val_accuracy: 0.8185\n",
      "Epoch 51/100\n",
      "800/800 [==============================] - 2s 2ms/step - loss: 0.4240 - accuracy: 0.8217 - val_loss: 0.4083 - val_accuracy: 0.8135\n",
      "Epoch 52/100\n",
      "800/800 [==============================] - 2s 3ms/step - loss: 0.4217 - accuracy: 0.8239 - val_loss: 0.4059 - val_accuracy: 0.8165\n",
      "Epoch 53/100\n",
      "800/800 [==============================] - 2s 3ms/step - loss: 0.4191 - accuracy: 0.8230 - val_loss: 0.4084 - val_accuracy: 0.8155\n",
      "Epoch 54/100\n",
      "800/800 [==============================] - 2s 3ms/step - loss: 0.4187 - accuracy: 0.8249 - val_loss: 0.3991 - val_accuracy: 0.8205\n",
      "Epoch 55/100\n",
      "800/800 [==============================] - 2s 3ms/step - loss: 0.4193 - accuracy: 0.8254 - val_loss: 0.3965 - val_accuracy: 0.8255\n",
      "Epoch 56/100\n",
      "800/800 [==============================] - 2s 3ms/step - loss: 0.4188 - accuracy: 0.8238 - val_loss: 0.4021 - val_accuracy: 0.8190\n",
      "Epoch 57/100\n",
      "800/800 [==============================] - 2s 3ms/step - loss: 0.4230 - accuracy: 0.8256 - val_loss: 0.4024 - val_accuracy: 0.8185\n"
     ]
    },
    {
     "name": "stdout",
     "output_type": "stream",
     "text": [
      "Epoch 58/100\n",
      "800/800 [==============================] - 2s 2ms/step - loss: 0.4205 - accuracy: 0.8227 - val_loss: 0.4015 - val_accuracy: 0.8185\n",
      "Epoch 59/100\n",
      "800/800 [==============================] - 2s 2ms/step - loss: 0.4200 - accuracy: 0.8267 - val_loss: 0.4050 - val_accuracy: 0.8175\n",
      "Epoch 60/100\n",
      "800/800 [==============================] - 2s 3ms/step - loss: 0.4186 - accuracy: 0.8227 - val_loss: 0.3989 - val_accuracy: 0.8185\n",
      "Epoch 61/100\n",
      "800/800 [==============================] - 2s 3ms/step - loss: 0.4152 - accuracy: 0.8266 - val_loss: 0.3971 - val_accuracy: 0.8190\n",
      "Epoch 62/100\n",
      "800/800 [==============================] - 2s 3ms/step - loss: 0.4204 - accuracy: 0.8269 - val_loss: 0.3973 - val_accuracy: 0.8215\n",
      "Epoch 63/100\n",
      "800/800 [==============================] - 2s 3ms/step - loss: 0.4172 - accuracy: 0.8254 - val_loss: 0.3965 - val_accuracy: 0.8200\n",
      "Epoch 64/100\n",
      "800/800 [==============================] - 2s 2ms/step - loss: 0.4208 - accuracy: 0.8257 - val_loss: 0.3994 - val_accuracy: 0.8195\n",
      "Epoch 65/100\n",
      "800/800 [==============================] - 2s 2ms/step - loss: 0.4172 - accuracy: 0.8263 - val_loss: 0.3998 - val_accuracy: 0.8190\n",
      "Epoch 66/100\n",
      "800/800 [==============================] - 2s 2ms/step - loss: 0.4114 - accuracy: 0.8266 - val_loss: 0.3928 - val_accuracy: 0.8250\n",
      "Epoch 67/100\n",
      "800/800 [==============================] - 2s 2ms/step - loss: 0.4120 - accuracy: 0.8303 - val_loss: 0.3926 - val_accuracy: 0.8235\n",
      "Epoch 68/100\n",
      "800/800 [==============================] - 2s 2ms/step - loss: 0.4173 - accuracy: 0.8254 - val_loss: 0.4011 - val_accuracy: 0.8170\n",
      "Epoch 69/100\n",
      "800/800 [==============================] - 2s 2ms/step - loss: 0.4166 - accuracy: 0.8253 - val_loss: 0.3952 - val_accuracy: 0.8205\n",
      "Epoch 70/100\n",
      "800/800 [==============================] - 2s 3ms/step - loss: 0.4194 - accuracy: 0.8238 - val_loss: 0.4000 - val_accuracy: 0.8170\n",
      "Epoch 71/100\n",
      "800/800 [==============================] - 2s 2ms/step - loss: 0.4167 - accuracy: 0.8248 - val_loss: 0.4011 - val_accuracy: 0.8165\n",
      "Epoch 72/100\n",
      "800/800 [==============================] - 2s 2ms/step - loss: 0.4180 - accuracy: 0.8225 - val_loss: 0.4003 - val_accuracy: 0.8160\n",
      "Epoch 73/100\n",
      "800/800 [==============================] - 2s 2ms/step - loss: 0.4214 - accuracy: 0.8264 - val_loss: 0.3952 - val_accuracy: 0.8205\n",
      "Epoch 74/100\n",
      "800/800 [==============================] - 2s 2ms/step - loss: 0.4188 - accuracy: 0.8229 - val_loss: 0.4004 - val_accuracy: 0.8185\n",
      "Epoch 75/100\n",
      "800/800 [==============================] - 2s 2ms/step - loss: 0.4193 - accuracy: 0.8240 - val_loss: 0.3977 - val_accuracy: 0.8185\n",
      "Epoch 76/100\n",
      "800/800 [==============================] - 2s 3ms/step - loss: 0.4158 - accuracy: 0.8269 - val_loss: 0.4017 - val_accuracy: 0.8160\n",
      "Epoch 77/100\n",
      "800/800 [==============================] - 2s 2ms/step - loss: 0.4156 - accuracy: 0.8271 - val_loss: 0.3946 - val_accuracy: 0.8230\n",
      "Epoch 78/100\n",
      "800/800 [==============================] - 2s 3ms/step - loss: 0.4195 - accuracy: 0.8244 - val_loss: 0.4041 - val_accuracy: 0.8140\n",
      "Epoch 79/100\n",
      "800/800 [==============================] - 2s 3ms/step - loss: 0.4152 - accuracy: 0.8256 - val_loss: 0.3954 - val_accuracy: 0.8210\n",
      "Epoch 80/100\n",
      "800/800 [==============================] - 2s 3ms/step - loss: 0.4095 - accuracy: 0.8289 - val_loss: 0.3993 - val_accuracy: 0.8175\n",
      "Epoch 81/100\n",
      "800/800 [==============================] - 2s 3ms/step - loss: 0.4171 - accuracy: 0.8236 - val_loss: 0.3909 - val_accuracy: 0.8250\n",
      "Epoch 82/100\n",
      "800/800 [==============================] - 2s 3ms/step - loss: 0.4171 - accuracy: 0.8234 - val_loss: 0.4030 - val_accuracy: 0.8165\n",
      "Epoch 83/100\n",
      "800/800 [==============================] - 2s 2ms/step - loss: 0.4170 - accuracy: 0.8253 - val_loss: 0.4023 - val_accuracy: 0.8160\n",
      "Epoch 84/100\n",
      "800/800 [==============================] - 2s 3ms/step - loss: 0.4233 - accuracy: 0.8231 - val_loss: 0.4017 - val_accuracy: 0.8185\n",
      "Epoch 85/100\n",
      "800/800 [==============================] - 2s 3ms/step - loss: 0.4187 - accuracy: 0.8241 - val_loss: 0.3975 - val_accuracy: 0.8190\n",
      "Epoch 86/100\n",
      "800/800 [==============================] - 2s 2ms/step - loss: 0.4160 - accuracy: 0.8253 - val_loss: 0.4008 - val_accuracy: 0.8155\n",
      "Epoch 87/100\n",
      "800/800 [==============================] - 2s 2ms/step - loss: 0.4177 - accuracy: 0.8246 - val_loss: 0.4025 - val_accuracy: 0.8155\n",
      "Epoch 88/100\n",
      "800/800 [==============================] - 2s 2ms/step - loss: 0.4128 - accuracy: 0.8281 - val_loss: 0.4037 - val_accuracy: 0.8145\n",
      "Epoch 89/100\n",
      "800/800 [==============================] - 2s 2ms/step - loss: 0.4120 - accuracy: 0.8270 - val_loss: 0.3952 - val_accuracy: 0.8200\n",
      "Epoch 90/100\n",
      "800/800 [==============================] - 2s 2ms/step - loss: 0.4190 - accuracy: 0.8244 - val_loss: 0.3981 - val_accuracy: 0.8195\n",
      "Epoch 91/100\n",
      "800/800 [==============================] - 2s 3ms/step - loss: 0.4163 - accuracy: 0.8249 - val_loss: 0.4070 - val_accuracy: 0.8115\n",
      "Epoch 92/100\n",
      "800/800 [==============================] - 2s 2ms/step - loss: 0.4179 - accuracy: 0.8239 - val_loss: 0.3939 - val_accuracy: 0.8210\n",
      "Epoch 93/100\n",
      "800/800 [==============================] - 2s 2ms/step - loss: 0.4176 - accuracy: 0.8270 - val_loss: 0.3970 - val_accuracy: 0.8180\n",
      "Epoch 94/100\n",
      "800/800 [==============================] - 2s 2ms/step - loss: 0.4170 - accuracy: 0.8266 - val_loss: 0.3967 - val_accuracy: 0.8190\n",
      "Epoch 95/100\n",
      "800/800 [==============================] - 2s 2ms/step - loss: 0.4134 - accuracy: 0.8301 - val_loss: 0.3982 - val_accuracy: 0.8205\n",
      "Epoch 96/100\n",
      "800/800 [==============================] - 2s 3ms/step - loss: 0.4171 - accuracy: 0.8251 - val_loss: 0.3931 - val_accuracy: 0.8245\n",
      "Epoch 97/100\n",
      "800/800 [==============================] - 2s 2ms/step - loss: 0.4104 - accuracy: 0.8288 - val_loss: 0.3894 - val_accuracy: 0.8305\n",
      "Epoch 98/100\n",
      "800/800 [==============================] - 2s 2ms/step - loss: 0.4158 - accuracy: 0.8257 - val_loss: 0.4047 - val_accuracy: 0.8110\n",
      "Epoch 99/100\n",
      "800/800 [==============================] - 2s 3ms/step - loss: 0.4177 - accuracy: 0.8278 - val_loss: 0.4010 - val_accuracy: 0.8165\n",
      "Epoch 100/100\n",
      "800/800 [==============================] - 2s 3ms/step - loss: 0.4125 - accuracy: 0.8288 - val_loss: 0.3953 - val_accuracy: 0.8190\n"
     ]
    }
   ],
   "source": [
    "model_history = model.fit(\n",
    "                           X_train                             , \n",
    "                           y_train                             ,\n",
    "                           validation_data = (X_test , y_test) ,\n",
    "                           batch_size = 10                     ,\n",
    "                           epochs = 100\n",
    "                         )"
   ]
  },
  {
   "cell_type": "code",
   "execution_count": 23,
   "metadata": {},
   "outputs": [],
   "source": [
    "y_pred = model.predict(X_test)\n",
    "y_pred = (y_pred>0.5)"
   ]
  },
  {
   "cell_type": "code",
   "execution_count": 24,
   "metadata": {},
   "outputs": [
    {
     "data": {
      "text/plain": [
       "array([[1591,    4],\n",
       "       [ 358,   47]], dtype=int64)"
      ]
     },
     "execution_count": 24,
     "metadata": {},
     "output_type": "execute_result"
    }
   ],
   "source": [
    "confusion_matrix(y_test, y_pred)"
   ]
  },
  {
   "cell_type": "code",
   "execution_count": 25,
   "metadata": {},
   "outputs": [
    {
     "data": {
      "text/plain": [
       "0.819"
      ]
     },
     "execution_count": 25,
     "metadata": {},
     "output_type": "execute_result"
    }
   ],
   "source": [
    "accuracy_score(y_pred,y_test)"
   ]
  },
  {
   "cell_type": "code",
   "execution_count": 27,
   "metadata": {},
   "outputs": [
    {
     "data": {
      "text/plain": [
       "Text(0.5, 1.0, 'Model Accuracy')"
      ]
     },
     "execution_count": 27,
     "metadata": {},
     "output_type": "execute_result"
    },
    {
     "data": {
      "image/png": "[encoded data removed]",
      "text/plain": [
       "<Figure size 432x288 with 1 Axes>"
      ]
     },
     "metadata": {
      "needs_background": "light"
     },
     "output_type": "display_data"
    }
   ],
   "source": [
    "train_acc = model_history.history['accuracy']\n",
    "val_acc   = model_history.history['val_accuracy']\n",
    "\n",
    "plt.plot(train_acc ,label='Train Accuracy')\n",
    "plt.plot(val_acc   ,label='Test  Accuracy')\n",
    "\n",
    "plt.xlabel(\"Epochs\")\n",
    "plt.ylabel(\"Accuracy\")\n",
    "\n",
    "plt.legend()\n",
    "\n",
    "plt.title(\"Model Accuracy\")"
   ]
  },
  {
   "cell_type": "code",
   "execution_count": 28,
   "metadata": {},
   "outputs": [
    {
     "data": {
      "text/plain": [
       "Text(0.5, 1.0, 'Model Loss')"
      ]
     },
     "execution_count": 28,
     "metadata": {},
     "output_type": "execute_result"
    },
    {
     "data": {
      "image/png": "[encoded data removed]",
      "text/plain": [
       "<Figure size 432x288 with 1 Axes>"
      ]
     },
     "metadata": {
      "needs_background": "light"
     },
     "output_type": "display_data"
    }
   ],
   "source": [
    "train_loss = model_history.history['loss']\n",
    "val_loss   = model_history.history['val_loss']\n",
    "\n",
    "plt.plot(train_loss ,label='Train Loss')\n",
    "plt.plot(val_loss   ,label='Test  Loss')\n",
    "\n",
    "plt.xlabel(\"Epochs\")\n",
    "plt.ylabel(\"Loss\")\n",
    "\n",
    "plt.legend()\n",
    "\n",
    "plt.title(\"Model Loss\")"
   ]
  },
  {
   "cell_type": "code",
   "execution_count": null,
   "metadata": {},
   "outputs": [],
   "source": []
  }
 ],
 "metadata": {
  "kernelspec": {
   "display_name": "Python 3",
   "language": "python",
   "name": "python3"
  },
  "language_info": {
   "codemirror_mode": {
    "name": "ipython",
    "version": 3
   },
   "file_extension": ".py",
   "mimetype": "text/x-python",
   "name": "python",
   "nbconvert_exporter": "python",
   "pygments_lexer": "ipython3",
   "version": "3.8.5"
  }
 },
 "nbformat": 4,
 "nbformat_minor": 4
}
